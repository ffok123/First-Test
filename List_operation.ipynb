{
  "nbformat": 4,
  "nbformat_minor": 0,
  "metadata": {
    "colab": {
      "name": "List operation",
      "provenance": [],
      "collapsed_sections": [],
      "authorship_tag": "ABX9TyPl5KjBcCJl1KzYXh1dR93P",
      "include_colab_link": true
    },
    "kernelspec": {
      "name": "python3",
      "display_name": "Python 3"
    },
    "language_info": {
      "name": "python"
    }
  },
  "cells": [
    {
      "cell_type": "markdown",
      "metadata": {
        "id": "view-in-github",
        "colab_type": "text"
      },
      "source": [
        "<a href=\"https://colab.research.google.com/github/ffok123/First-Test/blob/master/List_operation.ipynb\" target=\"_parent\"><img src=\"https://colab.research.google.com/assets/colab-badge.svg\" alt=\"Open In Colab\"/></a>"
      ]
    },
    {
      "cell_type": "code",
      "source": [
        "#Lists are used to store multiple items in a single variable\n",
        "#List items are ordered, changeable, and allow duplicate values.\n",
        "#List items are indexed, the first item has index [0], the second item has index [1]\n",
        "\n",
        "thislist = [\"apple\", \"banana\", \"cherry\", \"apple\", \"cherry\"]\n",
        "print(thislist)\n",
        "print(type(thislist))\n",
        "\n",
        "#To determine how many items a list has, use the len() function\n",
        "print(len(thislist))\n",
        "\n",
        "#accessing list\n",
        "print(thislist[-1])\n",
        "print(thislist[:4])\n",
        "print(thislist[-4:-1])\n",
        "\n",
        "#finding list\n",
        "if \"apple\" in thislist:\n",
        "  print(\"Yes, 'apple' is in the fruits list\")\n",
        "\n",
        "#The list is changeable\n",
        "thislist = [\"apple\", \"banana\", \"cherry\"]\n",
        "thislist[1] = \"blackcurrant\"\n",
        "print(thislist)\n",
        "\n",
        "#insert() method inserts an item\n",
        "thislist.insert(2, \"watermelon\")\n",
        "print(thislist)\n",
        "thislist.append(\"orange\")\n",
        "print(thislist)\n",
        "thislist.insert(2, \"lemon\")\n",
        "print(thislist)\n",
        "print(len(thislist))\n",
        "\n",
        "#append elements from another list to the current list\n",
        "tropical = [\"mango\", \"pineapple\", \"papaya\"]\n",
        "thislist.extend(tropical)\n",
        "print(thislist)\n",
        "thislist.remove(\"papaya\")\n",
        "print(thislist)\n",
        "\n",
        "#pop() remove the specified index\n",
        "thislist.pop(0)\n",
        "print(thislist)\n",
        "thislist.pop()\n",
        "print(thislist)\n",
        "\n",
        "#del and clear\n",
        "del thislist[0]\n",
        "print(thislist)\n",
        "thislist.clear()\n",
        "print(thislist)"
      ],
      "metadata": {
        "id": "qA82CI2HMdMu"
      },
      "execution_count": null,
      "outputs": []
    },
    {
      "cell_type": "code",
      "source": [
        "# sort and reverse\n",
        "thislist = [\"John\", \"Mary\", \"Peter\"]\n",
        "for i in thislist:\n",
        "  print(i)\n",
        "#List comprehension\n",
        "newlist = []\n",
        "for i in thislist:\n",
        "  if i not in newlist:\n",
        "    newlist.append(i.upper())\n",
        "    newlist.sort()\n",
        "    #thislist.sort(reverse = True)\n",
        "print(newlist)\n",
        "newlist.reverse()    \n",
        "print(newlist)\n",
        "\n",
        "#Make a copy of a list with the copy()\n",
        "#Make a copy of a list with the list() method\n",
        "#using the + operator to join\n"
      ],
      "metadata": {
        "id": "64uPfcOHMdGm"
      },
      "execution_count": null,
      "outputs": []
    },
    {
      "cell_type": "code",
      "source": [
        "numbers = [1, 2, 3, 4, 2, 5]\n",
        "result = isinstance(numbers, list)\n",
        "print(result)"
      ],
      "metadata": {
        "id": "ZVgx_pwyTjkq"
      },
      "execution_count": null,
      "outputs": []
    },
    {
      "cell_type": "code",
      "source": [
        "#list of list\n",
        "\n",
        "listA = [\"apple\",\"orange\",\"lemon\"]\n",
        "listB = [3,4,5]\n",
        "listA.append(\"mango\")\n",
        "listB.append(7) \n",
        "print(listA)\n",
        "print(listB)\n",
        "for i in listA:\n",
        "  print(i)\n",
        "for j in listB:\n",
        "  print(j)\n",
        "\n",
        "listC= [[\"apple\",\"orange\",\"lemon\"],[3,4,5]]\n",
        "print(listC)\n",
        "print(listC[0])\n",
        "print(listC[1])\n",
        "\n",
        "for i in range(2): # or for i in range(0,2):\n",
        "   for j in range(3):\n",
        "     print(listC[i][j])\n",
        "\n",
        "  "
      ],
      "metadata": {
        "id": "uTF7aG1z4mcg"
      },
      "execution_count": null,
      "outputs": []
    },
    {
      "cell_type": "code",
      "source": [
        "#list and sum and function\n",
        "def sum_list(listA):\n",
        "  sum = 0\n",
        "  for i in listA:\n",
        "      sum += i\n",
        "  return sum\n",
        "\n",
        "print(sum_list([1,2,3,5,8]))  "
      ],
      "metadata": {
        "id": "X8My9lZu1gvz"
      },
      "execution_count": null,
      "outputs": []
    },
    {
      "cell_type": "markdown",
      "source": [
        "Write a program to generate marks for 10 students (Hint: random module) in an array and print the failed marks which are less than 60. "
      ],
      "metadata": {
        "id": "DG6RlCWEGIUb"
      }
    },
    {
      "cell_type": "code",
      "source": [
        "import random\n",
        "\n",
        "listScore=[]\n",
        "for i in range(10):\n",
        "  ranNo=random.randint(30,100) \n",
        "  listScore.append(ranNo)\n",
        "print(listScore)\n",
        "listScore.sort(reverse=True)\n",
        "print(listScore)\n",
        "sumList = sum(listScore)\n",
        "print(\"Sum is \",sumList)\n",
        "print(\"Average is \",sumList/len(listScore))\n"
      ],
      "metadata": {
        "id": "DU7iDPARGGsK"
      },
      "execution_count": null,
      "outputs": []
    },
    {
      "cell_type": "code",
      "source": [
        "#simulate wordly\n",
        "import random\n",
        "list3=['Red', 'Cat', 'Eat']\n",
        "list4=['Pink', 'Bark', \"Blue\", \"Cold\"]\n",
        "list5=['Coast', 'White', 'Black', 'Value']\n",
        "listF=[]\n",
        "i=int(input(\"Enter number of words to guess: \"))\n",
        "if i==3:\n",
        "  listF=list3\n",
        "elif i==4:\n",
        "  listF=list4\n",
        "elif i==5:\n",
        "  listF=list5\n",
        "print(listF)\n",
        "index1 = random.randint(0,len(listF))\n",
        "\n",
        "chosen_word=listF[index1]\n",
        "print(\"Chosen \" + chosen_word)\n",
        "guesschar=input(\"Type \" + str(i) + \" characters to guess: \")\n",
        "\n",
        "for j in guesschar:\n",
        "  if j in chosen_word:\n",
        "    print(\"have the character \" + j )\n",
        "    print(\"Hint: have \" + j + \" in \" + str(chosen_word.index(j)) + \" position\") \n",
        "  else:\n",
        "    pass\n",
        "  if(len(chosen_word) != len(guesschar)):\n",
        "    print(\"You enter wrong numbers of characters. Please try again\")\n",
        "    break\n",
        "guessF=input(\"Try to guess \")\n",
        "if chosen_word==guessF:\n",
        "  print(\"Bingo! The word today is \", chosen_word)\n",
        "else:     \n",
        "  print(\"Please try again!\")"
      ],
      "metadata": {
        "id": "YxHsQJHF19bd"
      },
      "execution_count": null,
      "outputs": []
    },
    {
      "cell_type": "code",
      "source": [
        "#randomly choose sentence in a list\n",
        "import random\n",
        "\n",
        "listA=[\"Always have faith\",\"Never give up\",\"Just have patience\",\"Never lose hope\"]\n",
        "listR = []\n",
        "\n",
        "while True: \n",
        "  i = random.randint(0,3)\n",
        "  #print(i)\n",
        "  if listA[i] not in listR:\n",
        "    listR.append(listA[i])\n",
        "    #print(listR)\n",
        "  if len(listR) == 4:\n",
        "    break\n",
        "addS = \"And strength you will gain\"\n",
        "\n",
        "listR.append(addS)\n",
        "print(listR)\n",
        "\n"
      ],
      "metadata": {
        "id": "YoDx3Azg9EKw"
      },
      "execution_count": null,
      "outputs": []
    },
    {
      "cell_type": "markdown",
      "source": [
        "In computer science, a linear search or sequential search is a method for finding an element within\n",
        "a list. It sequentially checks each element of the list until a match is found or the whole list has\n",
        "been searched:"
      ],
      "metadata": {
        "id": "YfFu1B1iEBXj"
      }
    },
    {
      "cell_type": "code",
      "source": [
        "#use of break\n",
        "listB = [5,1,3,2,8]\n",
        "findPos = int(input(\"Find a number? \"))\n",
        "indexNo=None\n",
        "\n",
        "for i in range(len(listB)):\n",
        "  if findPos == listB[i]:\n",
        "    indexNo = i\n",
        "    break\n",
        "if indexNo != None:\n",
        "  print(\"The number is in position: \", i) \n",
        "else:\n",
        "  print(\"Not found\")    "
      ],
      "metadata": {
        "id": "weTrhmI9EDvT"
      },
      "execution_count": null,
      "outputs": []
    },
    {
      "cell_type": "code",
      "source": [
        "#two ways to search\n",
        "listB = [5,1,3,2,8]\n",
        "search = int(input(\"Find a number? \"))\n",
        "indexNo=None\n",
        "\n",
        "if search in listB:\n",
        "  print(\"There is a value \", search)\n",
        "  print(\"The position is \", listB.index(search))\n",
        "else:\n",
        "  print(\"The number not in list\")\n"
      ],
      "metadata": {
        "id": "VWMfl-BtWlMp"
      },
      "execution_count": null,
      "outputs": []
    },
    {
      "cell_type": "code",
      "source": [
        "#Covert string to list items\n",
        "#Using split and print first and last\n",
        "words = \"I study in HKBU\"\n",
        "#sent = input(\"Enter a sentence: \")\n",
        "print(\"Number of words:\", end=\"\")\n",
        "print(len(words))\n",
        "\n",
        "str1 = input(\"Enter a sentence: \")\n",
        "list= str1.split() #return a list from string\n",
        "print(list)\n",
        "print(\"First word:\" + list[0])\n",
        "print(\"Last word:\" + list[-1])"
      ],
      "metadata": {
        "colab": {
          "base_uri": "https://localhost:8080/"
        },
        "id": "WlJgAkAwfEiv",
        "outputId": "9a45619f-37c0-48d5-a817-4a696e0f7469"
      },
      "execution_count": null,
      "outputs": [
        {
          "output_type": "stream",
          "name": "stdout",
          "text": [
            "Number of words:15\n"
          ]
        }
      ]
    },
    {
      "cell_type": "code",
      "source": [
        "#for and list\n",
        "listA = [10, 20, 33, 46, 55]\n",
        "print(\"Given list:\", listA)\n",
        "print('Divisible by 5:')\n",
        "for i in listA:\n",
        "    if i % 5 == 0:\n",
        "        print(i)"
      ],
      "metadata": {
        "id": "1hy-90tTdJtn"
      },
      "execution_count": null,
      "outputs": []
    },
    {
      "cell_type": "code",
      "source": [
        "gradeList=[55,66,90,85]\n",
        "#calc average  \n",
        "countAboveAverage=0\n",
        "sum = 0\n",
        "for i in gradeList:\n",
        "  sum += float(i)\n",
        "  average = sum/len(gradeList)\n",
        "\n",
        "#count how many subject > average  \n",
        "for i in gradeList:  \n",
        "  if float(i)>average:\n",
        "    countAboveAverage +=1\n",
        "print(average)\n",
        "print(countAboveAverage)\n"
      ],
      "metadata": {
        "id": "llpG6l9AYggl"
      },
      "execution_count": null,
      "outputs": []
    },
    {
      "cell_type": "markdown",
      "source": [
        "Binary search is an efficient algorithm for finding an item from a sorted list of items. It works by repeatedly dividing in half the portion of the list that could contain the item"
      ],
      "metadata": {
        "id": "ZY9uINWmF4_B"
      }
    },
    {
      "cell_type": "code",
      "source": [
        "#binary search\n",
        "lstNumbers = [5, 1, 4, 2, 8]\n",
        "lstNumbers.sort() #Important for Binary Search\n",
        "print(lstNumbers)\n",
        "intTarget = int(input(\"Find? \"))\n",
        "#Binary Search\n",
        "intIndex = None\n",
        "intMid = 0\n",
        "intStart = 0\n",
        "intEnd = len(lstNumbers)\n",
        "while (intStart <= intEnd):\n",
        "  intMid = (intStart + intEnd) // 2\n",
        "  #print(\"List: \" + str(lstNumbers[intStart:intEnd+1]))\n",
        "  if intTarget == lstNumbers[intMid]:\n",
        "    intIndex = intMid\n",
        "    break\n",
        "  if intTarget < lstNumbers[intMid]:\n",
        "    intEnd = intMid - 1\n",
        "  else:\n",
        "    intStart = intMid + 1\n",
        "if intIndex != None:\n",
        "  print(\"Position is \" + str(intIndex))\n",
        "else:\n",
        "  print(\"Not Found\")"
      ],
      "metadata": {
        "id": "3IB-CEjLFoiR"
      },
      "execution_count": null,
      "outputs": []
    }
  ]
}